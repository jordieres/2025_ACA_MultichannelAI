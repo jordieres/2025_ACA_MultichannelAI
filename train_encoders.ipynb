{
 "cells": [
  {
   "cell_type": "code",
   "execution_count": null,
   "id": "a1ce8f90",
   "metadata": {},
   "outputs": [],
   "source": [
    "from glob import glob\n",
    "\n",
    "from EmbeddingsConstruction.Training.Node.TrainNodeEncoder import NodeEncoderTrainer\n",
    "from EmbeddingsConstruction.Training.Conference.TrainConferenceEncoder import ConferenceEncoderTrainer"
   ]
  },
  {
   "cell_type": "markdown",
   "id": "11db4628",
   "metadata": {},
   "source": [
    "# Node Encoder Training"
   ]
  },
  {
   "cell_type": "code",
   "execution_count": null,
   "id": "2a991bef",
   "metadata": {},
   "outputs": [],
   "source": [
    "json_paths = glob(\"/home/aacastro/mchai/processed_companies/**/*.json\", recursive=True)\n",
    "\n",
    "trainer = NodeEncoderTrainer(\n",
    "    json_paths,          # lista de rutas JSON con los árboles de conferencia\n",
    "    input_dim=21,        # 21 si concatenas texto+audio+video por defecto\n",
    "    save_path=\"node_encoder_best.pt\",  # ruta donde guardarás los pesos entrenados\n",
    "    device=\"cuda\",       # o \"cpu\"\n",
    "    batch_size=16,\n",
    "    optuna_epochs=10,     # cuántas épocas usar durante cada trial de Optuna\n",
    "    final_epochs=100     # cuántas épocas usar en el entrenamiento final\n",
    ")"
   ]
  },
  {
   "cell_type": "code",
   "execution_count": null,
   "id": "b23f5870",
   "metadata": {},
   "outputs": [],
   "source": [
    "trainer.optimize()"
   ]
  },
  {
   "cell_type": "code",
   "execution_count": null,
   "id": "3339826c",
   "metadata": {},
   "outputs": [],
   "source": [
    "trainer.train()"
   ]
  },
  {
   "cell_type": "markdown",
   "id": "11784e2b",
   "metadata": {},
   "source": [
    "# Conference Encoder Train"
   ]
  },
  {
   "cell_type": "code",
   "execution_count": null,
   "id": "14834c68",
   "metadata": {},
   "outputs": [],
   "source": [
    "trainer = ConferenceEncoderTrainer(\n",
    "    json_paths=json_paths,\n",
    "    sentence_encoder_path=\"./EmbeddingsConstruction/weights/node_encoder_best.pt\",\n",
    "    save_path=\"conference_encoder_best.pt\",\n",
    "    device=\"cuda\",\n",
    "    optuna_epochs=10,\n",
    "    final_epochs=100\n",
    ")"
   ]
  },
  {
   "cell_type": "code",
   "execution_count": null,
   "id": "4af6e7d4",
   "metadata": {},
   "outputs": [],
   "source": [
    "trainer.optimize()"
   ]
  },
  {
   "cell_type": "code",
   "execution_count": null,
   "id": "5678fc7c",
   "metadata": {},
   "outputs": [],
   "source": [
    "trainer.train_final()"
   ]
  }
 ],
 "metadata": {
  "kernelspec": {
   "display_name": "env",
   "language": "python",
   "name": "python3"
  },
  "language_info": {
   "codemirror_mode": {
    "name": "ipython",
    "version": 3
   },
   "file_extension": ".py",
   "mimetype": "text/x-python",
   "name": "python",
   "nbconvert_exporter": "python",
   "pygments_lexer": "ipython3",
   "version": "3.12.3"
  }
 },
 "nbformat": 4,
 "nbformat_minor": 5
}
