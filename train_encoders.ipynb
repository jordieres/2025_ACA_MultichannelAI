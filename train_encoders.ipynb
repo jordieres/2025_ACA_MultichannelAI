{
 "cells": [
  {
   "cell_type": "code",
   "execution_count": 5,
   "id": "a1ce8f90",
   "metadata": {},
   "outputs": [],
   "source": [
    "from glob import glob\n",
    "import os\n",
    "import json\n",
    "from pathlib import Path\n",
    "from collections import defaultdict\n",
    "\n",
    "from EmbeddingsConstruction.Training.Node.TrainNodeEncoder import NodeEncoderTrainer\n",
    "from EmbeddingsConstruction.Training.Conference.TrainConferenceEncoder import ConferenceEncoderTrainer"
   ]
  },
  {
   "cell_type": "code",
   "execution_count": 6,
   "id": "bd130949",
   "metadata": {},
   "outputs": [],
   "source": [
    "base_data = Path(\"../conferences_data\")\n",
    "\n",
    "base_companies = base_data / \"companies\"\n",
    "base_processed = base_data / \"processed_companies\"\n",
    "\n",
    "json_paths = glob(f\"{base_processed}/**/*.json\", recursive=True)"
   ]
  },
  {
   "cell_type": "code",
   "execution_count": 7,
   "id": "b3b606d6",
   "metadata": {},
   "outputs": [],
   "source": [
    "best_weights_node_encoder_path = \"./EmbeddingsConstruction/weights/node_encoder_best.pt\"\n",
    "best_weights_conference_encoder_path = \"./EmbeddingsConstruction/weights/conference_encoder_best.pt\"\n",
    "device = \"cuda:0\"\n",
    "optuna_epochs = 10\n",
    "training_epochs = 100"
   ]
  },
  {
   "cell_type": "markdown",
   "id": "9e520914",
   "metadata": {},
   "source": [
    "# Conferences data"
   ]
  },
  {
   "cell_type": "code",
   "execution_count": 8,
   "id": "0bb9cc7d",
   "metadata": {},
   "outputs": [
    {
     "name": "stdout",
     "output_type": "stream",
     "text": [
      "\n",
      "📊 Total de conferencias procesables encontradas: 3689\n",
      "❗ Total de conferencias faltantes: 282\n",
      "📉 Porcentaje de conferencias aún no procesadas: 7.64%\n"
     ]
    }
   ],
   "source": [
    "faltantes = defaultdict(list)\n",
    "total_conferencias_procesables = 0  # 👈 Nuevo contador\n",
    "\n",
    "for root, _, files in os.walk(base_companies):\n",
    "    if \"LEVEL_4.json\" in files:\n",
    "        json_path = os.path.join(root, \"LEVEL_4.json\")\n",
    "\n",
    "        try:\n",
    "            with open(json_path, 'r') as f:\n",
    "                data = json.load(f)\n",
    "        except Exception as e:\n",
    "            print(f\"❌ Error leyendo {json_path}: {e}\")\n",
    "            continue\n",
    "\n",
    "        if data.get(\"questions_and_answers\"):  # Solo si existe y no está vacío\n",
    "            total_conferencias_procesables += 1  # 👈 Aumentamos el total\n",
    "\n",
    "            relative_path = os.path.relpath(root, base_companies)\n",
    "            parts = relative_path.split(os.sep)\n",
    "\n",
    "            if len(parts) >= 3:\n",
    "                empresa, año, quarter = parts[:3]\n",
    "                transcript_path = os.path.join(base_processed, empresa, año, quarter, \"transcript.json\")\n",
    "                if not os.path.exists(transcript_path):\n",
    "                    faltantes[empresa].append((año, quarter))\n",
    "\n",
    "\n",
    "# Mostrar resultados agrupados por empresa\n",
    "# for empresa in sorted(faltantes.keys()):\n",
    "#     print(f\"\\n🔹 Empresa: {empresa}\")\n",
    "#     conferencias = sorted(faltantes[empresa])\n",
    "#     for año, quarter in conferencias:\n",
    "#         print(f\"  - {año} {quarter}\")\n",
    "\n",
    "# Mostrar resumen\n",
    "total_faltantes = sum(len(v) for v in faltantes.values())\n",
    "print(f\"\\n📊 Total de conferencias procesables encontradas: {total_conferencias_procesables}\")\n",
    "print(f\"❗ Total de conferencias faltantes: {total_faltantes}\")\n",
    "if total_conferencias_procesables > 0:\n",
    "    porcentaje = (total_faltantes / total_conferencias_procesables) * 100\n",
    "    print(f\"📉 Porcentaje de conferencias aún no procesadas: {porcentaje:.2f}%\")\n",
    "else:\n",
    "    print(\"⚠️ No se encontraron conferencias con 'questions_and_answers'.\")"
   ]
  },
  {
   "cell_type": "code",
   "execution_count": 9,
   "id": "9e5e9c44",
   "metadata": {},
   "outputs": [
    {
     "name": "stdout",
     "output_type": "stream",
     "text": [
      "\n",
      "📊 Resumen:\n",
      "✅ Conferencias con LEVEL_3.json: 3689\n",
      "🧠 Intervenciones totales (len(speakers)): 260512\n"
     ]
    }
   ],
   "source": [
    "total_intervenciones = 0\n",
    "conferencias_con_intervenciones = 0\n",
    "\n",
    "for root, _, files in os.walk(base_companies):\n",
    "    if \"LEVEL_4.json\" in files:\n",
    "        path_l4 = os.path.join(root, \"LEVEL_4.json\")\n",
    "\n",
    "        try:\n",
    "            with open(path_l4, 'r') as f:\n",
    "                data_l4 = json.load(f)\n",
    "        except Exception as e:\n",
    "            print(f\"❌ Error leyendo {path_l4}: {e}\")\n",
    "            continue\n",
    "\n",
    "        if data_l4.get(\"questions_and_answers\"):  # solo si es procesable\n",
    "            path_l3 = os.path.join(root, \"LEVEL_3.json\")\n",
    "            if os.path.exists(path_l3):\n",
    "                try:\n",
    "                    with open(path_l3, 'r') as f:\n",
    "                        data_l3 = json.load(f)\n",
    "                    speakers = data_l3.get(\"speakers\", [])\n",
    "                    num_intervenciones = len(speakers)\n",
    "                    total_intervenciones += num_intervenciones\n",
    "                    conferencias_con_intervenciones += 1\n",
    "                    # print(f\"📄 {path_l3}: {num_intervenciones} intervenciones\")\n",
    "                except Exception as e:\n",
    "                    print(f\"⚠️ Error leyendo/parsing {path_l3}: {e}\")\n",
    "            else:\n",
    "                print(f\"🟡 Falta LEVEL_3.json en: {root}\")\n",
    "\n",
    "print(\"\\n📊 Resumen:\")\n",
    "print(f\"✅ Conferencias con LEVEL_3.json: {conferencias_con_intervenciones}\")\n",
    "print(f\"🧠 Intervenciones totales (len(speakers)): {total_intervenciones}\")"
   ]
  },
  {
   "cell_type": "markdown",
   "id": "11db4628",
   "metadata": {},
   "source": [
    "# Node Encoder Training"
   ]
  },
  {
   "cell_type": "code",
   "execution_count": 10,
   "id": "2a991bef",
   "metadata": {},
   "outputs": [],
   "source": [
    "trainer = NodeEncoderTrainer(\n",
    "    json_paths,          # lista de rutas JSON con los árboles de conferencia\n",
    "    input_dim=21,        # 21 si concatenas texto+audio+video por defecto\n",
    "    save_path=best_weights_node_encoder_path,  # ruta donde guardarás los pesos entrenados\n",
    "    device=device,       # o \"cpu\"\n",
    "    optuna_epochs=optuna_epochs,     # cuántas épocas usar durante cada trial de Optuna\n",
    "    final_epochs=training_epochs     # cuántas épocas usar en el entrenamiento final\n",
    ")"
   ]
  },
  {
   "cell_type": "code",
   "execution_count": 11,
   "id": "b23f5870",
   "metadata": {},
   "outputs": [
    {
     "name": "stderr",
     "output_type": "stream",
     "text": [
      "[I 2025-06-04 09:32:03,448] A new study created in memory with name: no-name-9a6babee-e024-4a96-a29d-328087ce491b\n",
      "[I 2025-06-04 09:37:27,851] Trial 0 finished with value: 2.442218182302554 and parameters: {'hidden_dim': 64, 'n_heads': 4, 'dropout': 0.19047260530306614, 'lr': 1.3892039266445554e-05}. Best is trial 0 with value: 2.442218182302554.\n",
      "[I 2025-06-04 09:43:05,688] Trial 1 finished with value: 2.3455738063695435 and parameters: {'hidden_dim': 64, 'n_heads': 8, 'dropout': 0.20829058600404826, 'lr': 0.00016816772287060137}. Best is trial 1 with value: 2.3455738063695435.\n",
      "[I 2025-06-04 09:48:43,992] Trial 2 finished with value: 2.4679312715042387 and parameters: {'hidden_dim': 128, 'n_heads': 8, 'dropout': 0.28728215819278563, 'lr': 5.076236395489608e-05}. Best is trial 1 with value: 2.3455738063695435.\n",
      "[I 2025-06-04 09:54:18,880] Trial 3 finished with value: 2.338072753142911 and parameters: {'hidden_dim': 64, 'n_heads': 4, 'dropout': 0.1186852455355762, 'lr': 2.4088979920288448e-05}. Best is trial 3 with value: 2.338072753142911.\n",
      "[I 2025-06-04 09:59:57,229] Trial 4 finished with value: 2.4604856171949328 and parameters: {'hidden_dim': 64, 'n_heads': 8, 'dropout': 0.20271446276132982, 'lr': 1.1339086644834773e-05}. Best is trial 3 with value: 2.338072753142911.\n",
      "[I 2025-06-04 10:05:35,368] Trial 5 finished with value: 2.246443731999182 and parameters: {'hidden_dim': 128, 'n_heads': 8, 'dropout': 0.11584743008890555, 'lr': 0.000404801732153434}. Best is trial 5 with value: 2.246443731999182.\n",
      "[I 2025-06-04 10:06:55,913] Trial 6 pruned. \n",
      "[I 2025-06-04 10:07:43,858] Trial 7 pruned. \n",
      "[I 2025-06-04 10:08:32,527] Trial 8 pruned. \n",
      "[I 2025-06-04 10:12:37,738] Trial 9 pruned. \n",
      "[I 2025-06-04 10:18:17,802] Trial 10 finished with value: 2.2887554435794883 and parameters: {'hidden_dim': 128, 'n_heads': 2, 'dropout': 0.11201702189191809, 'lr': 0.0006161763219897197}. Best is trial 5 with value: 2.246443731999182.\n",
      "[I 2025-06-04 10:23:56,365] Trial 11 finished with value: 2.278182269109979 and parameters: {'hidden_dim': 128, 'n_heads': 2, 'dropout': 0.10071799929655698, 'lr': 0.0009855534514710985}. Best is trial 5 with value: 2.246443731999182.\n",
      "[I 2025-06-04 10:29:37,085] Trial 12 finished with value: 2.3277293076581973 and parameters: {'hidden_dim': 256, 'n_heads': 2, 'dropout': 0.1506815934331532, 'lr': 0.0006992390538093182}. Best is trial 5 with value: 2.246443731999182.\n",
      "[I 2025-06-04 10:30:28,060] Trial 13 pruned. \n",
      "[I 2025-06-04 10:36:07,075] Trial 14 finished with value: 2.3259503778995074 and parameters: {'hidden_dim': 128, 'n_heads': 2, 'dropout': 0.14657595710950955, 'lr': 0.0009377537432106651}. Best is trial 5 with value: 2.246443731999182.\n",
      "[I 2025-06-04 10:41:45,769] Trial 15 finished with value: 2.2811535907156757 and parameters: {'hidden_dim': 128, 'n_heads': 4, 'dropout': 0.13283800124610046, 'lr': 0.0003673413057015518}. Best is trial 5 with value: 2.246443731999182.\n",
      "[I 2025-06-04 10:42:34,154] Trial 16 pruned. \n",
      "[I 2025-06-04 10:48:16,093] Trial 17 finished with value: 2.30408481767767 and parameters: {'hidden_dim': 256, 'n_heads': 2, 'dropout': 0.10122590190316283, 'lr': 0.0009969317674101616}. Best is trial 5 with value: 2.246443731999182.\n",
      "[I 2025-06-04 10:49:06,040] Trial 18 pruned. \n",
      "[I 2025-06-04 10:49:54,685] Trial 19 pruned. \n",
      "[I 2025-06-04 10:50:44,205] Trial 20 pruned. \n",
      "[I 2025-06-04 10:56:23,763] Trial 21 finished with value: 2.2755701092584113 and parameters: {'hidden_dim': 128, 'n_heads': 4, 'dropout': 0.1287909439361603, 'lr': 0.0003840102879531046}. Best is trial 5 with value: 2.246443731999182.\n",
      "[I 2025-06-04 11:02:01,148] Trial 22 finished with value: 2.2472339868701545 and parameters: {'hidden_dim': 128, 'n_heads': 4, 'dropout': 0.10145120053972519, 'lr': 0.00044641485225210126}. Best is trial 5 with value: 2.246443731999182.\n",
      "[I 2025-06-04 11:07:37,041] Trial 23 finished with value: 2.2776101921073058 and parameters: {'hidden_dim': 128, 'n_heads': 4, 'dropout': 0.12810569429000135, 'lr': 0.0004341162772638989}. Best is trial 5 with value: 2.246443731999182.\n",
      "[I 2025-06-04 11:08:25,412] Trial 24 pruned. \n",
      "[I 2025-06-04 11:09:14,063] Trial 25 pruned. \n",
      "[I 2025-06-04 11:10:02,576] Trial 26 pruned. \n",
      "[I 2025-06-04 11:10:52,505] Trial 27 pruned. \n",
      "[I 2025-06-04 11:11:41,562] Trial 28 pruned. \n",
      "[I 2025-06-04 11:12:30,291] Trial 29 pruned. \n"
     ]
    },
    {
     "name": "stdout",
     "output_type": "stream",
     "text": [
      "🏆 Best params: {'hidden_dim': 128, 'n_heads': 8, 'dropout': 0.11584743008890555, 'lr': 0.000404801732153434}\n"
     ]
    },
    {
     "data": {
      "text/plain": [
       "{'hidden_dim': 128,\n",
       " 'n_heads': 8,\n",
       " 'dropout': 0.11584743008890555,\n",
       " 'lr': 0.000404801732153434}"
      ]
     },
     "execution_count": 11,
     "metadata": {},
     "output_type": "execute_result"
    }
   ],
   "source": [
    "trainer.optimize()"
   ]
  },
  {
   "cell_type": "code",
   "execution_count": 12,
   "id": "3339826c",
   "metadata": {},
   "outputs": [
    {
     "name": "stdout",
     "output_type": "stream",
     "text": [
      "Epoch 1/100 - Loss: 2.3412\n",
      "Epoch 2/100 - Loss: 2.2794\n",
      "Epoch 3/100 - Loss: 2.2707\n",
      "Epoch 4/100 - Loss: 2.2648\n",
      "Epoch 5/100 - Loss: 2.2554\n",
      "Epoch 6/100 - Loss: 2.2506\n",
      "Epoch 7/100 - Loss: 2.2494\n",
      "Epoch 8/100 - Loss: 2.2489\n",
      "Epoch 9/100 - Loss: 2.2478\n",
      "Epoch 10/100 - Loss: 2.2466\n",
      "Epoch 11/100 - Loss: 2.2449\n",
      "Epoch 12/100 - Loss: 2.2436\n",
      "Epoch 13/100 - Loss: 2.2441\n",
      "Epoch 14/100 - Loss: 2.2421\n",
      "Epoch 15/100 - Loss: 2.2401\n",
      "Epoch 16/100 - Loss: 2.2404\n",
      "Epoch 17/100 - Loss: 2.2399\n",
      "Epoch 18/100 - Loss: 2.2397\n",
      "Epoch 19/100 - Loss: 2.2406\n",
      "Epoch 20/100 - Loss: 2.2396\n",
      "Epoch 21/100 - Loss: 2.2396\n",
      "Epoch 22/100 - Loss: 2.2408\n",
      "Epoch 23/100 - Loss: 2.2393\n",
      "Epoch 24/100 - Loss: 2.2385\n",
      "Epoch 25/100 - Loss: 2.2392\n",
      "Epoch 26/100 - Loss: 2.2380\n",
      "Epoch 27/100 - Loss: 2.2384\n",
      "Epoch 28/100 - Loss: 2.2380\n",
      "Epoch 29/100 - Loss: 2.2377\n",
      "Epoch 30/100 - Loss: 2.2387\n",
      "Epoch 31/100 - Loss: 2.2384\n",
      "Epoch 32/100 - Loss: 2.2368\n",
      "Epoch 33/100 - Loss: 2.2362\n",
      "Epoch 34/100 - Loss: 2.2380\n",
      "Epoch 35/100 - Loss: 2.2366\n",
      "Epoch 36/100 - Loss: 2.2362\n",
      "Epoch 37/100 - Loss: 2.2380\n",
      "Epoch 38/100 - Loss: 2.2361\n",
      "Epoch 39/100 - Loss: 2.2365\n",
      "Epoch 40/100 - Loss: 2.2377\n",
      "Epoch 41/100 - Loss: 2.2369\n",
      "Epoch 42/100 - Loss: 2.2359\n",
      "Epoch 43/100 - Loss: 2.2371\n",
      "Epoch 44/100 - Loss: 2.2378\n",
      "Epoch 45/100 - Loss: 2.2360\n",
      "Epoch 46/100 - Loss: 2.2361\n",
      "Epoch 47/100 - Loss: 2.2364\n",
      "Epoch 48/100 - Loss: 2.2364\n",
      "Epoch 49/100 - Loss: 2.2374\n",
      "Epoch 50/100 - Loss: 2.2361\n",
      "Epoch 51/100 - Loss: 2.2357\n",
      "Epoch 52/100 - Loss: 2.2365\n",
      "Epoch 53/100 - Loss: 2.2353\n",
      "Epoch 54/100 - Loss: 2.2353\n",
      "Epoch 55/100 - Loss: 2.2345\n",
      "Epoch 56/100 - Loss: 2.2348\n",
      "Epoch 57/100 - Loss: 2.2356\n",
      "Epoch 58/100 - Loss: 2.2348\n",
      "Epoch 59/100 - Loss: 2.2348\n",
      "Epoch 60/100 - Loss: 2.2355\n",
      "Epoch 61/100 - Loss: 2.2339\n",
      "Epoch 62/100 - Loss: 2.2345\n",
      "Epoch 63/100 - Loss: 2.2355\n",
      "Epoch 64/100 - Loss: 2.2344\n",
      "Epoch 65/100 - Loss: 2.2343\n",
      "Epoch 66/100 - Loss: 2.2338\n",
      "Epoch 67/100 - Loss: 2.2348\n",
      "Epoch 68/100 - Loss: 2.2344\n",
      "Epoch 69/100 - Loss: 2.2361\n",
      "Epoch 70/100 - Loss: 2.2352\n",
      "Epoch 71/100 - Loss: 2.2339\n",
      "Epoch 72/100 - Loss: 2.2335\n",
      "Epoch 73/100 - Loss: 2.2351\n",
      "Epoch 74/100 - Loss: 2.2331\n",
      "Epoch 75/100 - Loss: 2.2336\n",
      "Epoch 76/100 - Loss: 2.2335\n",
      "Epoch 77/100 - Loss: 2.2342\n",
      "Epoch 78/100 - Loss: 2.2335\n",
      "Epoch 79/100 - Loss: 2.2339\n",
      "Epoch 80/100 - Loss: 2.2335\n",
      "Epoch 81/100 - Loss: 2.2340\n",
      "Epoch 82/100 - Loss: 2.2321\n",
      "Epoch 83/100 - Loss: 2.2324\n",
      "Epoch 84/100 - Loss: 2.2329\n",
      "Epoch 85/100 - Loss: 2.2336\n",
      "Epoch 86/100 - Loss: 2.2345\n",
      "Epoch 87/100 - Loss: 2.2334\n",
      "Epoch 88/100 - Loss: 2.2336\n",
      "Epoch 89/100 - Loss: 2.2334\n",
      "Epoch 90/100 - Loss: 2.2327\n",
      "Epoch 91/100 - Loss: 2.2327\n",
      "Epoch 92/100 - Loss: 2.2326\n",
      "Epoch 93/100 - Loss: 2.2328\n",
      "Epoch 94/100 - Loss: 2.2321\n",
      "Epoch 95/100 - Loss: 2.2332\n",
      "Epoch 96/100 - Loss: 2.2311\n",
      "Epoch 97/100 - Loss: 2.2305\n",
      "Epoch 98/100 - Loss: 2.2325\n",
      "Epoch 99/100 - Loss: 2.2331\n",
      "Epoch 100/100 - Loss: 2.2322\n",
      "✅ Model saved to ./EmbeddingsConstruction/weights/node_encoder_best.pt\n"
     ]
    },
    {
     "data": {
      "text/plain": [
       "SentenceAttentionEncoder(\n",
       "  (input_proj): Linear(in_features=21, out_features=128, bias=True)\n",
       "  (attention): MultiheadAttention(\n",
       "    (out_proj): NonDynamicallyQuantizableLinear(in_features=128, out_features=128, bias=True)\n",
       "  )\n",
       "  (dropout): Dropout(p=0.11584743008890555, inplace=False)\n",
       "  (norm): LayerNorm((128,), eps=1e-05, elementwise_affine=True)\n",
       ")"
      ]
     },
     "execution_count": 12,
     "metadata": {},
     "output_type": "execute_result"
    }
   ],
   "source": [
    "trainer.train()"
   ]
  },
  {
   "cell_type": "markdown",
   "id": "11784e2b",
   "metadata": {},
   "source": [
    "# Conference Encoder Train"
   ]
  },
  {
   "cell_type": "code",
   "execution_count": 13,
   "id": "14834c68",
   "metadata": {},
   "outputs": [],
   "source": [
    "trainer = ConferenceEncoderTrainer(\n",
    "    json_paths=json_paths,\n",
    "    sentence_encoder_path=best_weights_node_encoder_path,\n",
    "    save_path=best_weights_conference_encoder_path,\n",
    "    device=device,\n",
    "    optuna_epochs=optuna_epochs,\n",
    "    final_epochs=training_epochs\n",
    ")"
   ]
  },
  {
   "cell_type": "code",
   "execution_count": 14,
   "id": "4af6e7d4",
   "metadata": {},
   "outputs": [
    {
     "name": "stderr",
     "output_type": "stream",
     "text": [
      "[I 2025-06-04 12:06:36,410] A new study created in memory with name: no-name-24f0718a-d986-442f-8b46-4272e8127003\n"
     ]
    },
    {
     "name": "stdout",
     "output_type": "stream",
     "text": [
      "✅ Pesos cargados desde: ./EmbeddingsConstruction/weights/node_encoder_best.pt\n"
     ]
    },
    {
     "name": "stderr",
     "output_type": "stream",
     "text": [
      "[I 2025-06-04 12:34:13,108] Trial 0 finished with value: 2.079107894164296 and parameters: {'hidden_dim_conf': 256, 'n_heads': 2, 'lr': 0.00036248638953566265}. Best is trial 0 with value: 2.079107894164296.\n"
     ]
    },
    {
     "name": "stdout",
     "output_type": "stream",
     "text": [
      "✅ Pesos cargados desde: ./EmbeddingsConstruction/weights/node_encoder_best.pt\n"
     ]
    },
    {
     "name": "stderr",
     "output_type": "stream",
     "text": [
      "[I 2025-06-04 13:01:48,557] Trial 1 finished with value: 1.1010980451470809 and parameters: {'hidden_dim_conf': 128, 'n_heads': 4, 'lr': 9.320512644032831e-05}. Best is trial 1 with value: 1.1010980451470809.\n"
     ]
    },
    {
     "name": "stdout",
     "output_type": "stream",
     "text": [
      "✅ Pesos cargados desde: ./EmbeddingsConstruction/weights/node_encoder_best.pt\n"
     ]
    },
    {
     "name": "stderr",
     "output_type": "stream",
     "text": [
      "[I 2025-06-04 13:29:30,985] Trial 2 finished with value: 1.1166038993098926 and parameters: {'hidden_dim_conf': 1024, 'n_heads': 8, 'lr': 2.0657084453575286e-05}. Best is trial 1 with value: 1.1010980451470809.\n"
     ]
    },
    {
     "name": "stdout",
     "output_type": "stream",
     "text": [
      "✅ Pesos cargados desde: ./EmbeddingsConstruction/weights/node_encoder_best.pt\n"
     ]
    },
    {
     "name": "stderr",
     "output_type": "stream",
     "text": [
      "[I 2025-06-04 13:57:04,667] Trial 3 finished with value: 1.128209444068967 and parameters: {'hidden_dim_conf': 256, 'n_heads': 2, 'lr': 6.272392073904032e-05}. Best is trial 1 with value: 1.1010980451470809.\n"
     ]
    },
    {
     "name": "stdout",
     "output_type": "stream",
     "text": [
      "✅ Pesos cargados desde: ./EmbeddingsConstruction/weights/node_encoder_best.pt\n"
     ]
    },
    {
     "name": "stderr",
     "output_type": "stream",
     "text": [
      "[I 2025-06-04 14:24:39,274] Trial 4 finished with value: 1.1356513275646827 and parameters: {'hidden_dim_conf': 256, 'n_heads': 8, 'lr': 1.4418734948489936e-05}. Best is trial 1 with value: 1.1010980451470809.\n"
     ]
    },
    {
     "name": "stdout",
     "output_type": "stream",
     "text": [
      "✅ Pesos cargados desde: ./EmbeddingsConstruction/weights/node_encoder_best.pt\n"
     ]
    },
    {
     "name": "stderr",
     "output_type": "stream",
     "text": [
      "[I 2025-06-04 14:30:12,519] Trial 5 pruned. \n"
     ]
    },
    {
     "name": "stdout",
     "output_type": "stream",
     "text": [
      "✅ Pesos cargados desde: ./EmbeddingsConstruction/weights/node_encoder_best.pt\n"
     ]
    },
    {
     "name": "stderr",
     "output_type": "stream",
     "text": [
      "[I 2025-06-04 14:35:44,976] Trial 6 pruned. \n"
     ]
    },
    {
     "name": "stdout",
     "output_type": "stream",
     "text": [
      "✅ Pesos cargados desde: ./EmbeddingsConstruction/weights/node_encoder_best.pt\n"
     ]
    },
    {
     "name": "stderr",
     "output_type": "stream",
     "text": [
      "[I 2025-06-04 14:38:30,894] Trial 7 pruned. \n"
     ]
    },
    {
     "name": "stdout",
     "output_type": "stream",
     "text": [
      "✅ Pesos cargados desde: ./EmbeddingsConstruction/weights/node_encoder_best.pt\n"
     ]
    },
    {
     "name": "stderr",
     "output_type": "stream",
     "text": [
      "[I 2025-06-04 14:41:16,005] Trial 8 pruned. \n"
     ]
    },
    {
     "name": "stdout",
     "output_type": "stream",
     "text": [
      "✅ Pesos cargados desde: ./EmbeddingsConstruction/weights/node_encoder_best.pt\n"
     ]
    },
    {
     "name": "stderr",
     "output_type": "stream",
     "text": [
      "[I 2025-06-04 14:44:02,284] Trial 9 pruned. \n"
     ]
    },
    {
     "name": "stdout",
     "output_type": "stream",
     "text": [
      "✅ Pesos cargados desde: ./EmbeddingsConstruction/weights/node_encoder_best.pt\n"
     ]
    },
    {
     "name": "stderr",
     "output_type": "stream",
     "text": [
      "[I 2025-06-04 15:11:38,990] Trial 10 finished with value: 1.1071252286993842 and parameters: {'hidden_dim_conf': 512, 'n_heads': 4, 'lr': 4.2999781090211844e-05}. Best is trial 1 with value: 1.1010980451470809.\n"
     ]
    },
    {
     "name": "stdout",
     "output_type": "stream",
     "text": [
      "✅ Pesos cargados desde: ./EmbeddingsConstruction/weights/node_encoder_best.pt\n"
     ]
    },
    {
     "name": "stderr",
     "output_type": "stream",
     "text": [
      "[I 2025-06-04 15:17:09,680] Trial 11 pruned. \n"
     ]
    },
    {
     "name": "stdout",
     "output_type": "stream",
     "text": [
      "✅ Pesos cargados desde: ./EmbeddingsConstruction/weights/node_encoder_best.pt\n"
     ]
    },
    {
     "name": "stderr",
     "output_type": "stream",
     "text": [
      "[I 2025-06-04 15:22:41,193] Trial 12 pruned. \n"
     ]
    },
    {
     "name": "stdout",
     "output_type": "stream",
     "text": [
      "✅ Pesos cargados desde: ./EmbeddingsConstruction/weights/node_encoder_best.pt\n"
     ]
    },
    {
     "name": "stderr",
     "output_type": "stream",
     "text": [
      "[I 2025-06-04 15:25:27,699] Trial 13 pruned. \n"
     ]
    },
    {
     "name": "stdout",
     "output_type": "stream",
     "text": [
      "✅ Pesos cargados desde: ./EmbeddingsConstruction/weights/node_encoder_best.pt\n"
     ]
    },
    {
     "name": "stderr",
     "output_type": "stream",
     "text": [
      "[I 2025-06-04 15:52:58,193] Trial 14 finished with value: 1.1092923156952075 and parameters: {'hidden_dim_conf': 128, 'n_heads': 4, 'lr': 4.397306443080333e-05}. Best is trial 1 with value: 1.1010980451470809.\n"
     ]
    },
    {
     "name": "stdout",
     "output_type": "stream",
     "text": [
      "✅ Pesos cargados desde: ./EmbeddingsConstruction/weights/node_encoder_best.pt\n"
     ]
    },
    {
     "name": "stderr",
     "output_type": "stream",
     "text": [
      "[I 2025-06-04 15:55:42,190] Trial 15 pruned. \n"
     ]
    },
    {
     "name": "stdout",
     "output_type": "stream",
     "text": [
      "✅ Pesos cargados desde: ./EmbeddingsConstruction/weights/node_encoder_best.pt\n"
     ]
    },
    {
     "name": "stderr",
     "output_type": "stream",
     "text": [
      "[I 2025-06-04 15:58:26,359] Trial 16 pruned. \n"
     ]
    },
    {
     "name": "stdout",
     "output_type": "stream",
     "text": [
      "✅ Pesos cargados desde: ./EmbeddingsConstruction/weights/node_encoder_best.pt\n"
     ]
    },
    {
     "name": "stderr",
     "output_type": "stream",
     "text": [
      "[I 2025-06-04 16:06:38,239] Trial 17 pruned. \n"
     ]
    },
    {
     "name": "stdout",
     "output_type": "stream",
     "text": [
      "✅ Pesos cargados desde: ./EmbeddingsConstruction/weights/node_encoder_best.pt\n"
     ]
    },
    {
     "name": "stderr",
     "output_type": "stream",
     "text": [
      "[I 2025-06-04 16:33:59,364] Trial 18 finished with value: 1.112582817253932 and parameters: {'hidden_dim_conf': 128, 'n_heads': 4, 'lr': 0.0001775760546119867}. Best is trial 1 with value: 1.1010980451470809.\n"
     ]
    },
    {
     "name": "stdout",
     "output_type": "stream",
     "text": [
      "✅ Pesos cargados desde: ./EmbeddingsConstruction/weights/node_encoder_best.pt\n"
     ]
    },
    {
     "name": "stderr",
     "output_type": "stream",
     "text": [
      "[I 2025-06-04 16:36:43,595] Trial 19 pruned. \n"
     ]
    },
    {
     "name": "stdout",
     "output_type": "stream",
     "text": [
      "✅ Pesos cargados desde: ./EmbeddingsConstruction/weights/node_encoder_best.pt\n"
     ]
    },
    {
     "name": "stderr",
     "output_type": "stream",
     "text": [
      "[I 2025-06-04 16:39:27,298] Trial 20 pruned. \n"
     ]
    },
    {
     "name": "stdout",
     "output_type": "stream",
     "text": [
      "✅ Pesos cargados desde: ./EmbeddingsConstruction/weights/node_encoder_best.pt\n"
     ]
    },
    {
     "name": "stderr",
     "output_type": "stream",
     "text": [
      "[I 2025-06-04 16:42:13,047] Trial 21 pruned. \n"
     ]
    },
    {
     "name": "stdout",
     "output_type": "stream",
     "text": [
      "✅ Pesos cargados desde: ./EmbeddingsConstruction/weights/node_encoder_best.pt\n"
     ]
    },
    {
     "name": "stderr",
     "output_type": "stream",
     "text": [
      "[I 2025-06-04 16:44:58,318] Trial 22 pruned. \n"
     ]
    },
    {
     "name": "stdout",
     "output_type": "stream",
     "text": [
      "✅ Pesos cargados desde: ./EmbeddingsConstruction/weights/node_encoder_best.pt\n"
     ]
    },
    {
     "name": "stderr",
     "output_type": "stream",
     "text": [
      "[I 2025-06-04 16:47:44,478] Trial 23 pruned. \n"
     ]
    },
    {
     "name": "stdout",
     "output_type": "stream",
     "text": [
      "✅ Pesos cargados desde: ./EmbeddingsConstruction/weights/node_encoder_best.pt\n"
     ]
    },
    {
     "name": "stderr",
     "output_type": "stream",
     "text": [
      "[I 2025-06-04 17:15:25,229] Trial 24 finished with value: 1.1071515415615878 and parameters: {'hidden_dim_conf': 128, 'n_heads': 4, 'lr': 0.00013594146382617687}. Best is trial 1 with value: 1.1010980451470809.\n"
     ]
    },
    {
     "name": "stdout",
     "output_type": "stream",
     "text": [
      "✅ Pesos cargados desde: ./EmbeddingsConstruction/weights/node_encoder_best.pt\n"
     ]
    },
    {
     "name": "stderr",
     "output_type": "stream",
     "text": [
      "[I 2025-06-04 17:18:11,132] Trial 25 pruned. \n"
     ]
    },
    {
     "name": "stdout",
     "output_type": "stream",
     "text": [
      "✅ Pesos cargados desde: ./EmbeddingsConstruction/weights/node_encoder_best.pt\n"
     ]
    },
    {
     "name": "stderr",
     "output_type": "stream",
     "text": [
      "[I 2025-06-04 17:45:46,442] Trial 26 finished with value: 1.0975403647887314 and parameters: {'hidden_dim_conf': 256, 'n_heads': 4, 'lr': 8.055227369493488e-05}. Best is trial 26 with value: 1.0975403647887314.\n"
     ]
    },
    {
     "name": "stdout",
     "output_type": "stream",
     "text": [
      "✅ Pesos cargados desde: ./EmbeddingsConstruction/weights/node_encoder_best.pt\n"
     ]
    },
    {
     "name": "stderr",
     "output_type": "stream",
     "text": [
      "[I 2025-06-04 17:48:31,093] Trial 27 pruned. \n"
     ]
    },
    {
     "name": "stdout",
     "output_type": "stream",
     "text": [
      "✅ Pesos cargados desde: ./EmbeddingsConstruction/weights/node_encoder_best.pt\n"
     ]
    },
    {
     "name": "stderr",
     "output_type": "stream",
     "text": [
      "[I 2025-06-04 17:51:15,804] Trial 28 pruned. \n"
     ]
    },
    {
     "name": "stdout",
     "output_type": "stream",
     "text": [
      "✅ Pesos cargados desde: ./EmbeddingsConstruction/weights/node_encoder_best.pt\n"
     ]
    },
    {
     "name": "stderr",
     "output_type": "stream",
     "text": [
      "[I 2025-06-04 17:54:00,319] Trial 29 pruned. \n"
     ]
    },
    {
     "name": "stdout",
     "output_type": "stream",
     "text": [
      "🏆 Mejores hiperparámetros: {'hidden_dim_conf': 256, 'n_heads': 4, 'lr': 8.055227369493488e-05}\n"
     ]
    },
    {
     "data": {
      "text/plain": [
       "{'hidden_dim_conf': 256, 'n_heads': 4, 'lr': 8.055227369493488e-05}"
      ]
     },
     "execution_count": 14,
     "metadata": {},
     "output_type": "execute_result"
    }
   ],
   "source": [
    "trainer.optimize()"
   ]
  },
  {
   "cell_type": "code",
   "execution_count": 15,
   "id": "5678fc7c",
   "metadata": {},
   "outputs": [
    {
     "name": "stdout",
     "output_type": "stream",
     "text": [
      "✅ Pesos cargados desde: ./EmbeddingsConstruction/weights/node_encoder_best.pt\n",
      "Epoch 1/100 - Loss: 1.2894\n",
      "Epoch 2/100 - Loss: 1.1715\n",
      "Epoch 3/100 - Loss: 1.1463\n",
      "Epoch 4/100 - Loss: 1.1324\n",
      "Epoch 5/100 - Loss: 1.1238\n",
      "Epoch 6/100 - Loss: 1.1164\n",
      "Epoch 7/100 - Loss: 1.1128\n",
      "Epoch 8/100 - Loss: 1.1108\n",
      "Epoch 9/100 - Loss: 1.1051\n",
      "Epoch 10/100 - Loss: 1.0998\n",
      "Epoch 11/100 - Loss: 1.0955\n",
      "Epoch 12/100 - Loss: 1.1024\n",
      "Epoch 13/100 - Loss: 1.0923\n",
      "Epoch 14/100 - Loss: 1.0943\n",
      "Epoch 15/100 - Loss: 1.0900\n",
      "Epoch 16/100 - Loss: 1.0866\n",
      "Epoch 17/100 - Loss: 1.0867\n",
      "Epoch 18/100 - Loss: 1.0929\n",
      "Epoch 19/100 - Loss: 1.0851\n",
      "Epoch 20/100 - Loss: 1.0920\n",
      "Epoch 21/100 - Loss: 1.0846\n",
      "Epoch 22/100 - Loss: 1.0869\n",
      "Epoch 23/100 - Loss: 1.0866\n",
      "Epoch 24/100 - Loss: 1.0842\n",
      "Epoch 25/100 - Loss: 1.0832\n",
      "Epoch 26/100 - Loss: 1.0824\n",
      "Epoch 27/100 - Loss: 1.0801\n",
      "Epoch 28/100 - Loss: 1.0812\n",
      "Epoch 29/100 - Loss: 1.0811\n",
      "Epoch 30/100 - Loss: 1.0801\n",
      "Epoch 31/100 - Loss: 1.0830\n",
      "Epoch 32/100 - Loss: 1.0836\n",
      "Epoch 33/100 - Loss: 1.0801\n",
      "Epoch 34/100 - Loss: 1.0837\n",
      "Epoch 35/100 - Loss: 1.0798\n",
      "Epoch 36/100 - Loss: 1.0762\n",
      "Epoch 37/100 - Loss: 1.0794\n",
      "Epoch 38/100 - Loss: 1.0769\n",
      "Epoch 39/100 - Loss: 1.0760\n",
      "Epoch 40/100 - Loss: 1.0769\n",
      "Epoch 41/100 - Loss: 1.0809\n",
      "Epoch 42/100 - Loss: 1.0790\n",
      "Epoch 43/100 - Loss: 1.0797\n",
      "Epoch 44/100 - Loss: 1.0785\n",
      "Epoch 45/100 - Loss: 1.0801\n",
      "Epoch 46/100 - Loss: 1.0770\n",
      "Epoch 47/100 - Loss: 1.0788\n",
      "Epoch 48/100 - Loss: 1.0772\n",
      "Epoch 49/100 - Loss: 1.0805\n",
      "Epoch 50/100 - Loss: 1.0799\n",
      "Epoch 51/100 - Loss: 1.0773\n",
      "Epoch 52/100 - Loss: 1.0752\n",
      "Epoch 53/100 - Loss: 1.0716\n",
      "Epoch 54/100 - Loss: 1.0755\n",
      "Epoch 55/100 - Loss: 1.0688\n",
      "Epoch 56/100 - Loss: 1.0771\n",
      "Epoch 57/100 - Loss: 1.0771\n",
      "Epoch 58/100 - Loss: 1.0715\n",
      "Epoch 59/100 - Loss: 1.0741\n",
      "Epoch 60/100 - Loss: 1.0747\n",
      "Epoch 61/100 - Loss: 1.0735\n",
      "Epoch 62/100 - Loss: 1.0729\n",
      "Epoch 63/100 - Loss: 1.0752\n",
      "Epoch 64/100 - Loss: 1.0777\n",
      "Epoch 65/100 - Loss: 1.0753\n",
      "Epoch 66/100 - Loss: 1.0712\n",
      "Epoch 67/100 - Loss: 1.0765\n",
      "Epoch 68/100 - Loss: 1.0751\n",
      "Epoch 69/100 - Loss: 1.0725\n",
      "Epoch 70/100 - Loss: 1.0756\n",
      "Epoch 71/100 - Loss: 1.0721\n",
      "Epoch 72/100 - Loss: 1.0732\n",
      "Epoch 73/100 - Loss: 1.0728\n",
      "Epoch 74/100 - Loss: 1.0718\n",
      "Epoch 75/100 - Loss: 1.0750\n",
      "Epoch 76/100 - Loss: 1.0723\n",
      "Epoch 77/100 - Loss: 1.0707\n",
      "Epoch 78/100 - Loss: 1.0754\n",
      "Epoch 79/100 - Loss: 1.0744\n",
      "Epoch 80/100 - Loss: 1.0699\n",
      "Epoch 81/100 - Loss: 1.0735\n",
      "Epoch 82/100 - Loss: 1.0787\n",
      "Epoch 83/100 - Loss: 1.0765\n",
      "Epoch 84/100 - Loss: 1.0760\n",
      "Epoch 85/100 - Loss: 1.0728\n",
      "Epoch 86/100 - Loss: 1.0722\n",
      "Epoch 87/100 - Loss: 1.0690\n",
      "Epoch 88/100 - Loss: 1.0722\n",
      "Epoch 89/100 - Loss: 1.0744\n",
      "Epoch 90/100 - Loss: 1.0702\n",
      "Epoch 91/100 - Loss: 1.0740\n",
      "Epoch 92/100 - Loss: 1.0706\n",
      "Epoch 93/100 - Loss: 1.0739\n",
      "Epoch 94/100 - Loss: 1.0738\n",
      "Epoch 95/100 - Loss: 1.0731\n",
      "Epoch 96/100 - Loss: 1.0705\n",
      "Epoch 97/100 - Loss: 1.0749\n",
      "Epoch 98/100 - Loss: 1.0705\n",
      "Epoch 99/100 - Loss: 1.0701\n",
      "Epoch 100/100 - Loss: 1.0750\n",
      "✅ Pesos del ConferenceEncoder guardados en ./EmbeddingsConstruction/weights/conference_encoder_best.pt\n"
     ]
    },
    {
     "data": {
      "text/plain": [
       "ConferenceEncoder(\n",
       "  (pos_embedding): Embedding(101, 512)\n",
       "  (encoder_layer): TransformerEncoderLayer(\n",
       "    (self_attn): MultiheadAttention(\n",
       "      (out_proj): NonDynamicallyQuantizableLinear(in_features=512, out_features=512, bias=True)\n",
       "    )\n",
       "    (linear1): Linear(in_features=512, out_features=512, bias=True)\n",
       "    (dropout): Dropout(p=0.1, inplace=False)\n",
       "    (linear2): Linear(in_features=512, out_features=512, bias=True)\n",
       "    (norm1): LayerNorm((512,), eps=1e-05, elementwise_affine=True)\n",
       "    (norm2): LayerNorm((512,), eps=1e-05, elementwise_affine=True)\n",
       "    (dropout1): Dropout(p=0.1, inplace=False)\n",
       "    (dropout2): Dropout(p=0.1, inplace=False)\n",
       "  )\n",
       "  (proj): Linear(in_features=512, out_features=512, bias=True)\n",
       ")"
      ]
     },
     "execution_count": 15,
     "metadata": {},
     "output_type": "execute_result"
    }
   ],
   "source": [
    "trainer.train()"
   ]
  }
 ],
 "metadata": {
  "kernelspec": {
   "display_name": "env_general",
   "language": "python",
   "name": "python3"
  },
  "language_info": {
   "codemirror_mode": {
    "name": "ipython",
    "version": 3
   },
   "file_extension": ".py",
   "mimetype": "text/x-python",
   "name": "python",
   "nbconvert_exporter": "python",
   "pygments_lexer": "ipython3",
   "version": "3.12.3"
  }
 },
 "nbformat": 4,
 "nbformat_minor": 5
}
