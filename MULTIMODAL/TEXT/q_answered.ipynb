{
 "cells": [
  {
   "cell_type": "code",
   "execution_count": 2,
   "metadata": {},
   "outputs": [],
   "source": [
    "from pydantic import BaseModel\n",
    "from typing import Literal, Optional, List\n",
    "\n",
    "import json\n",
    "import ollama"
   ]
  },
  {
   "cell_type": "code",
   "execution_count": 3,
   "metadata": {},
   "outputs": [],
   "source": [
    "from pydantic import BaseModel\n",
    "from typing import List\n",
    "\n",
    "class EvaluatedQA(BaseModel):\n",
    "    question: str\n",
    "    answered: Literal['yes', 'partially', 'no']\n",
    "    answer_summary: str = None\n",
    "    answer_quote: str = None\n",
    "\n",
    "class InterventionAnalysis(BaseModel):\n",
    "    intervention: str\n",
    "    response: str\n",
    "    evaluations: List[EvaluatedQA]\n"
   ]
  },
  {
   "cell_type": "code",
   "execution_count": null,
   "metadata": {},
   "outputs": [],
   "source": [
    "\n",
    "class QAExtractor:\n",
    "    def __init__(self, model_name: str = \"llama3\"):\n",
    "        self.model = model_name\n",
    "\n",
    "    def extract_qa(self, intervention: str, response: str) -> InterventionAnalysis:\n",
    "        messages = [\n",
    "            {\n",
    "                \"role\": \"system\",\n",
    "                \"content\": \"\"\"\n",
    "                              You are an assistant that analyzes multi-question interventions from business or financial conference calls.\n",
    "\n",
    "                              Given an intervention that may contain several questions, and the subsequent response:\n",
    "                              - Extract each individual question clearly.\n",
    "                              - Determine whether each question is answered (\"yes\"), partially answered (\"partially\"), or not answered (\"no\").\n",
    "                              - If it is answered (fully or partially), provide a short summary and a quote from the response that supports your evaluation.\n",
    "                              \"\"\"\n",
    "                                          },\n",
    "                                          {\n",
    "                \"role\": \"user\",\n",
    "                \"content\": f\"\"\"\n",
    "                              Intervention:\n",
    "                              {intervention}\n",
    "\n",
    "                              Response:\n",
    "                              {response}\n",
    "                \"\"\"\n",
    "            }\n",
    "        ]\n",
    "\n",
    "        result = json.loads(ollama.chat(model=self.model, messages=messages, format=InterventionAnalysis.model_json_schema()).message.content)\n",
    "        return result"
   ]
  },
  {
   "cell_type": "code",
   "execution_count": 10,
   "metadata": {},
   "outputs": [
    {
     "name": "stdout",
     "output_type": "stream",
     "text": [
      "[{'question': \"First for Tim, you're on track to hit your services revenue target even earlier than planned. So how are you thinking about the next legs of services growth as you move into the next three to five years?\", 'answered': 'yes', 'answer_summary': 'The company is thrilled with their current services results and feels great about their pipeline for new services.', 'answer_quote': \"We feel great about our current services, but obviously we're also thrilled about our pipeline that have some new services in it as well.\"}, {'question': \"And then for you, Luca, NAN prices are falling this year. Services mix is rising. Those should both positively influence gross margins and yet We're seeing gross margins sort of hang out here at 38%. What are the offsetting headwinds, and is it possible that we could see the tailwinds start to overpower those headwinds in the next couple of quarters and see gross margins drift higher?\", 'answered': 'partially', 'answer_summary': \"The company mentions that they have offsetting headwinds, but they feel confident about their current services and pipeline for new services. They didn't provide a specific answer to the question about gross margin drifting higher.\", 'answer_quote': \"We're thrilled with how things are going. In terms of the next leg of this, given the momentum that we're seeing across the board, we feel great about our current services, but obviously we're also thrilled about our pipeline that have some new services in it as well.\"}]\n",
      "[{'question': \"can you talk a bit about trends within your iPhone sales? ASPs were above expectations, you know, and now that you've had - And that was clearly better than some of the comments from some of your competitors. Now that you've had about nine months of experience with a, you know, high-end, fully-featured phone, can you talk a bit about what you think customers want, what the elasticity of demand is, and, you know, how you're sort of thinking about your competitive position? And then I have a follow-up.\", 'answered': 'partially', 'answer_summary': 'The response partially answers this question by providing information on iPhone sales trends, ASP growth, and customer preferences for innovative products. However, the answer does not directly address elasticity of demand or competitive positioning.', 'answer_quote': \"And so if you look at iPhone X in particular, it's the most innovative smartphone on the market. We priced it at a level that represented the value of it. And we're really, we could not be happier that it has been the top selling iPhone since the launch.\"}]\n",
      "[{'question': 'Can you talk a bit about China, greater China, up 19% year over year during the quarter?', 'answered': 'yes', 'answer_summary': 'The company has experienced double-digit growth in greater China for the fourth consecutive quarter. iPhone sales have been strong, and the company has gained share in both iPhone and iPad.', 'answer_quote': \"This is the fourth consecutive quarter that we've had double-digit growth in greater China.\"}, {'question': 'How are you thinking about it as you look forward?', 'answered': 'yes', 'answer_summary': 'The company remains optimistic about its prospects in China, despite concerns over trade tensions. The executive believes that the countries will work through their issues and that there is an inescapable mutuality between the US and China.', 'answer_quote': \"I am optimistic, as I've been the whole time, that this will get sorted out...\"}]\n",
      "[{'question': \"What's the multi-year partnership with Oprah Winfrey and what does it say about your original content strategy?\", 'answered': 'yes', 'answer_summary': \"The company is very excited to work with Oprah and thinks that her talent can help them do great things in original content. They're not ready to share all the details yet, but they're happy to be working on something.\", 'answer_quote': 'We think that we can do some great in original content together.'}, {'question': \"What's the update around paid subscribers or total subscribers around Apple Music and how you feel that's rolled out?\", 'answered': 'yes', 'answer_summary': \"Apple Music has over 50 million listeners, with paid subscribers and trial users combined. They're moving along at a very good rate.\", 'answer_quote': \"We're well over 50 million listeners now when you add our paid subscribers and the folks in the trial.\"}]\n",
      "[{'question': \"Luca, I'm wondering, as we think about modeling Q4, iPhone ASPs are typically up sequentially about 2% to 4%, sort of low single digits. Perhaps you can help us think through how we should be thinking about Q4.\", 'answered': 'no', 'answer_summary': 'The speaker does not provide direct guidance on iPhone ASP growth or offer any concrete advice for modeling Q4 ASPs.', 'answer_quote': 'none'}]\n",
      "[{'question': 'What do you think about the health of the smartphone market?', 'answered': 'yes', 'answer_summary': 'The CEO believes that the smartphone market is very healthy.', 'answer_quote': 'I think the smartphone market is very healthy.'}]\n",
      "[{'question': 'strategically, how do you feel about the importance of being in the home and whether it threatens your dominance outside the home with your core business and the mobile devices if you sort of lose that battle.', 'answered': 'yes', 'answer_summary': 'The speaker emphasizes the significance of being present in the home, stating that everyone uses their Apple products at home and this is a key access point for Siri. They also highlight the importance of the smartphone as a repository that spans across different aspects of life, not just being limited to a specific portion of it.', 'answer_quote': 'You know, I do that every day with controlling all my home automation and so on and so forth. Part of that is on HomePod, but part of it is with the Apple Watch and the iPhone and the iPad.'}]\n",
      "[{'question': 'But do they attract a new person to the ecosystem? Or does the person have to have an iPhone first?', 'answered': 'partially', 'answer_summary': \"The speaker partially answers this question by stating that it's not always a linear path and that some users were attracted to iPhone because of the Apple Watch, while others got an iPhone and then decided they wanted the Apple Watch.\", 'answer_quote': 'some of them were attracted to iPhone because of the Apple Watch. And so the Apple Watch led them to the iPhone.'}]\n"
     ]
    }
   ],
   "source": [
    "extractor = QAExtractor(model_name=\"llama3\")\n",
    "\n",
    "with open(\"/home/aacastro/Alejandro/ACA_MultichanelAI_2025/src/TEXT/POO/annotated/AAPL/2018/Q3.json\", \"r\", encoding=\"utf-8\") as f:\n",
    "    data = json.load(f)\n",
    "\n",
    "# Ahora puedes acceder a los pares por clave\n",
    "for pair_key, pair_content in data.items():\n",
    "    question = pair_content[\"Question\"]\n",
    "    answer = pair_content[\"Answer\"]\n",
    "    # print(f\"{pair_key}:\\nQ: {question}\\nA: {answer}\\n\")\n",
    "    qa_results = extractor.extract_qa(question, answer)\n",
    "    print(qa_results['evaluations'])"
   ]
  }
 ],
 "metadata": {
  "kernelspec": {
   "display_name": "env",
   "language": "python",
   "name": "python3"
  },
  "language_info": {
   "codemirror_mode": {
    "name": "ipython",
    "version": 3
   },
   "file_extension": ".py",
   "mimetype": "text/x-python",
   "name": "python",
   "nbconvert_exporter": "python",
   "pygments_lexer": "ipython3",
   "version": "3.12.3"
  }
 },
 "nbformat": 4,
 "nbformat_minor": 2
}
