{
 "cells": [
  {
   "cell_type": "code",
   "execution_count": null,
   "metadata": {},
   "outputs": [],
   "source": [
    "import os\n",
    "import subprocess\n",
    "import cv2\n",
    "import pandas as pd\n",
    "import ipywidgets as widgets\n",
    "from IPython.display import display, Video, Markdown\n",
    "from dataclasses import dataclass, field\n",
    "\n",
    "from RAVDESManager import RAVDESSManager"
   ]
  },
  {
   "cell_type": "code",
   "execution_count": 3,
   "metadata": {},
   "outputs": [],
   "source": [
    "# Initialize the RAVDESSManager with the base directory\n",
    "ravdess_manager = RAVDESSManager(base_path=\"/home/aacastro/mchai/RAVDESS\",\n",
    "                                 output_csv_file=\"/home/aacastro/Alejandro/ACA_MultichanelAI_2025/src/VIDEO/RAVDESS.csv\",\n",
    "                                 add_visualization=True)\n",
    "\n",
    "# Run the full pipeline: download, extract, process metadata, and display videos\n",
    "# ravdess_manager.full_pipeline()"
   ]
  },
  {
   "cell_type": "code",
   "execution_count": null,
   "metadata": {},
   "outputs": [
    {
     "name": "stdout",
     "output_type": "stream",
     "text": [
      "✅ Video file saved: ravdess_videos.html\n"
     ]
    },
    {
     "data": {
      "text/html": [
       "<html><head><title>RAVDESS Video Display</title></head><body><h1 style='text-align:center;'>RAVDESS Emotion Videos</h1>\n",
       "            <div style='text-align:center; margin-bottom:20px;'>\n",
       "                <h2>🎬 Emotion: <b>Happy</b></h2>\n",
       "                <video width='500' height='400' controls>\n",
       "                    <source src='/home/aacastro/mchai/RAVDESS/videos/Actor_09/01-02-03-01-02-01-09.mp4' type='video/mp4'>\n",
       "                    Your browser does not support the video tag.\n",
       "                </video>\n",
       "            </div>\n",
       "            \n",
       "            <div style='text-align:center; margin-bottom:20px;'>\n",
       "                <h2>🎬 Emotion: <b>Neutral</b></h2>\n",
       "                <video width='500' height='400' controls>\n",
       "                    <source src='/home/aacastro/mchai/RAVDESS/videos/Actor_09/01-01-01-01-01-01-09.mp4' type='video/mp4'>\n",
       "                    Your browser does not support the video tag.\n",
       "                </video>\n",
       "            </div>\n",
       "            \n",
       "            <div style='text-align:center; margin-bottom:20px;'>\n",
       "                <h2>🎬 Emotion: <b>Angry</b></h2>\n",
       "                <video width='500' height='400' controls>\n",
       "                    <source src='/home/aacastro/mchai/RAVDESS/videos/Actor_09/01-01-05-01-01-02-09.mp4' type='video/mp4'>\n",
       "                    Your browser does not support the video tag.\n",
       "                </video>\n",
       "            </div>\n",
       "            \n",
       "            <div style='text-align:center; margin-bottom:20px;'>\n",
       "                <h2>🎬 Emotion: <b>Disgust</b></h2>\n",
       "                <video width='500' height='400' controls>\n",
       "                    <source src='/home/aacastro/mchai/RAVDESS/videos/Actor_09/01-02-06-02-01-02-09.mp4' type='video/mp4'>\n",
       "                    Your browser does not support the video tag.\n",
       "                </video>\n",
       "            </div>\n",
       "            \n",
       "            <div style='text-align:center; margin-bottom:20px;'>\n",
       "                <h2>🎬 Emotion: <b>Calm</b></h2>\n",
       "                <video width='500' height='400' controls>\n",
       "                    <source src='/home/aacastro/mchai/RAVDESS/videos/Actor_09/02-01-02-01-01-01-09.mp4' type='video/mp4'>\n",
       "                    Your browser does not support the video tag.\n",
       "                </video>\n",
       "            </div>\n",
       "            \n",
       "            <div style='text-align:center; margin-bottom:20px;'>\n",
       "                <h2>🎬 Emotion: <b>Sad</b></h2>\n",
       "                <video width='500' height='400' controls>\n",
       "                    <source src='/home/aacastro/mchai/RAVDESS/videos/Actor_09/02-01-04-02-02-01-09.mp4' type='video/mp4'>\n",
       "                    Your browser does not support the video tag.\n",
       "                </video>\n",
       "            </div>\n",
       "            \n",
       "            <div style='text-align:center; margin-bottom:20px;'>\n",
       "                <h2>🎬 Emotion: <b>Fearful</b></h2>\n",
       "                <video width='500' height='400' controls>\n",
       "                    <source src='/home/aacastro/mchai/RAVDESS/videos/Actor_09/02-01-07-01-02-01-09.mp4' type='video/mp4'>\n",
       "                    Your browser does not support the video tag.\n",
       "                </video>\n",
       "            </div>\n",
       "            \n",
       "            <div style='text-align:center; margin-bottom:20px;'>\n",
       "                <h2>🎬 Emotion: <b>Surprised</b></h2>\n",
       "                <video width='500' height='400' controls>\n",
       "                    <source src='/home/aacastro/mchai/RAVDESS/videos/Actor_09/01-01-08-02-02-01-09.mp4' type='video/mp4'>\n",
       "                    Your browser does not support the video tag.\n",
       "                </video>\n",
       "            </div>\n",
       "            </body></html>"
      ],
      "text/plain": [
       "<IPython.core.display.HTML object>"
      ]
     },
     "metadata": {},
     "output_type": "display_data"
    }
   ],
   "source": [
    "# Load the data extracted before using the full pipeline\n",
    "data = pd.read_csv('/home/aacastro/Alejandro/ACA_MultichanelAI_2025/src/VIDEO/RAVDESS.csv', index_col=0)\n",
    "ravdess_manager.display_one_video_per_emotion(df_videos=data)"
   ]
  },
  {
   "cell_type": "code",
   "execution_count": null,
   "metadata": {},
   "outputs": [],
   "source": []
  }
 ],
 "metadata": {
  "kernelspec": {
   "display_name": "env",
   "language": "python",
   "name": "python3"
  },
  "language_info": {
   "codemirror_mode": {
    "name": "ipython",
    "version": 3
   },
   "file_extension": ".py",
   "mimetype": "text/x-python",
   "name": "python",
   "nbconvert_exporter": "python",
   "pygments_lexer": "ipython3",
   "version": "3.12.3"
  }
 },
 "nbformat": 4,
 "nbformat_minor": 2
}
